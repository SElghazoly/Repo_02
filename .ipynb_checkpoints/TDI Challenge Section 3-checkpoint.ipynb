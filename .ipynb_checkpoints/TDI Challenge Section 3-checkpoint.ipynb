{
 "cells": [
  {
   "cell_type": "markdown",
   "metadata": {},
   "source": [
    "### Section 3\n",
    "\n",
    "You have large bag of pennies, nickels, dimes, quarters and half dollars.\n",
    "\n",
    "#1. Suppose you draw 10 coins at random from the bag (assume each of the five coin types will come up with equal probability for each draw). What is the probability that you will be able to buy an item for $1.00?"
   ]
  },
  {
   "cell_type": "code",
   "execution_count": 79,
   "metadata": {},
   "outputs": [
    {
     "name": "stdout",
     "output_type": "stream",
     "text": [
      "Number of possible combinations:  1001\n",
      "Probability amount is greater than or equal to $1:  0.81219\n",
      "Probability amount is greater than or equal to $2:  0.38362\n"
     ]
    }
   ],
   "source": [
    "x=0;\n",
    "y=0;\n",
    "y2=0;\n",
    "for i in range(0,11):\n",
    "    for i2 in range(0, 10+1-i):\n",
    "        for i3 in range(0, 10+1-i-i2):\n",
    "            for i4 in range(0, 10+1-i-i2-i3):\n",
    "                i5 = 10-i-i2-i3-i4;\n",
    "                x=x+1;\n",
    "                tot = 0.5*i + 0.25*i2 + 0.1*i3 + 0.05*i4 + 0.01*i5;\n",
    "                if tot >= 1:\n",
    "                    y = y+1;\n",
    "                    \n",
    "                if tot >=2:\n",
    "                    y2 = y2 +1;\n",
    "                \n",
    "print('Number of possible combinations: ', x)                    \n",
    "print('Probability amount is greater than or equal to $1: ', round(y/x,5))\n",
    "print('Probability amount is greater than or equal to $2: ', round(y2/x,5))\n",
    "                    #print(0.5*i + 0.25*i2 + 0.1*i3 + 0.05*i4 + 0.01*i5)"
   ]
  },
  {
   "cell_type": "code",
   "execution_count": null,
   "metadata": {},
   "outputs": [],
   "source": [
    "from itertools import combinations_with_replacement\n",
    "x=0\n",
    "z=0\n",
    "comb=combinations_with_replacement([0.01,0.05,0.1,0.25,0.5],25)\n",
    "for i in list(comb):\n",
    "    x = x+1\n",
    "    for i2 in range(1,26):\n",
    "        keep_going = True\n",
    "        while keep_going == True:\n",
    "            if 0.25-sum(i[0:i2])<= 0:\n",
    "                keep_going=False\n",
    "                print(0.25-sum(i[0:i2]))"
   ]
  },
  {
   "cell_type": "code",
   "execution_count": 179,
   "metadata": {},
   "outputs": [
    {
     "name": "stdout",
     "output_type": "stream",
     "text": [
      "0.25\n",
      "0.5\n"
     ]
    }
   ],
   "source": [
    "x=0\n",
    "z=0\n",
    "i2 = 0\n",
    "comb=combinations_with_replacement([0.01,0.05,0.1,0.25,0.5],25)\n",
    "keep_going = True\n",
    "while keep_going == True:\n",
    "    for i in [0.01,0.05,0.1,0.25,0.5]:\n",
    "        i2 = i + i2\n",
    "        if i2 >= 0.25:\n",
    "            keep_going=False\n",
    "            x = x+1\n",
    "            z = z + (i2-0.25)\n",
    "            print()"
   ]
  },
  {
   "cell_type": "code",
   "execution_count": null,
   "metadata": {},
   "outputs": [],
   "source": []
  },
  {
   "cell_type": "markdown",
   "metadata": {},
   "source": [
    "### Section 2:\n",
    "\n",
    "Load the data and remove all rows that are missing a value for ANY of the following columns: 'Title', 'Artist', or 'DateAcquired'. Use this cleaned data for the rest of the challenge. After removing these rows, how many rows remain?"
   ]
  },
  {
   "cell_type": "code",
   "execution_count": 349,
   "metadata": {},
   "outputs": [],
   "source": [
    "import pandas as pd\n",
    "import numpy as np\n",
    "from sklearn.linear_model import LinearRegression"
   ]
  },
  {
   "cell_type": "code",
   "execution_count": 350,
   "metadata": {},
   "outputs": [],
   "source": [
    "df = pd.read_csv('Artworks.csv')\n",
    "title = df['Title']"
   ]
  },
  {
   "cell_type": "code",
   "execution_count": 351,
   "metadata": {},
   "outputs": [],
   "source": [
    "df2 =df[['Artist', 'DateAcquired']]"
   ]
  },
  {
   "cell_type": "code",
   "execution_count": 352,
   "metadata": {},
   "outputs": [
    {
     "data": {
      "text/plain": [
       "26"
      ]
     },
     "execution_count": 352,
     "metadata": {},
     "output_type": "execute_result"
    }
   ],
   "source": [
    "df = df.drop(columns=['Title', 'Artist','DateAcquired'])\n",
    "len(df.columns)"
   ]
  },
  {
   "cell_type": "markdown",
   "metadata": {},
   "source": [
    "Of all pieces listed, what proportion belong to the Photography Department? Remember, you should be using the cleaned data you prepared in the last question."
   ]
  },
  {
   "cell_type": "code",
   "execution_count": 353,
   "metadata": {},
   "outputs": [
    {
     "data": {
      "text/plain": [
       "0.23089228452924698"
      ]
     },
     "execution_count": 353,
     "metadata": {},
     "output_type": "execute_result"
    }
   ],
   "source": [
    "sum(df['Department']=='Photography')/len(df)"
   ]
  },
  {
   "cell_type": "markdown",
   "metadata": {},
   "source": [
    "Looking at the Title for each work of art, how many unique titles contain the string 'untitled' (NOT case-sensitive)?"
   ]
  },
  {
   "cell_type": "code",
   "execution_count": 354,
   "metadata": {},
   "outputs": [
    {
     "data": {
      "text/plain": [
       "4028"
      ]
     },
     "execution_count": 354,
     "metadata": {},
     "output_type": "execute_result"
    }
   ],
   "source": [
    "title2 = pd.Series(pd.unique(title))\n",
    "\n",
    "title2.str.contains('untitled', case = False, regex=False).sum()\n"
   ]
  },
  {
   "cell_type": "markdown",
   "metadata": {},
   "source": [
    "MoMA tends more heavily toward printed works, rather than painted works, as evidenced by the value counts for each Department in the data set. What about the materials on which these prints and paintings appear? Looking at the Medium for each work of art, report the ratio of the number of works that contain the string 'paper' compared to those that contain the string 'canvas' (NOT case-sensitive)."
   ]
  },
  {
   "cell_type": "code",
   "execution_count": 355,
   "metadata": {},
   "outputs": [
    {
     "data": {
      "text/plain": [
       "10.622631578947368"
      ]
     },
     "execution_count": 355,
     "metadata": {},
     "output_type": "execute_result"
    }
   ],
   "source": [
    "pap = df['Medium'].str.contains('paper', case = False, regex = False).sum()\n",
    "canv = df['Medium'].str.contains('canvas', case = False, regex = False).sum()\n",
    "pap/canv"
   ]
  },
  {
   "cell_type": "markdown",
   "metadata": {},
   "source": [
    "Of the works with a non-null, positive value for Duration (column 'Duration (sec.)'), what proportion of these durations are listed as being longer than 10 hours?"
   ]
  },
  {
   "cell_type": "code",
   "execution_count": 356,
   "metadata": {},
   "outputs": [
    {
     "data": {
      "text/plain": [
       "24"
      ]
     },
     "execution_count": 356,
     "metadata": {},
     "output_type": "execute_result"
    }
   ],
   "source": [
    "sum(df['Duration (sec.)'].dropna() > (10*60*60))"
   ]
  },
  {
   "cell_type": "markdown",
   "metadata": {},
   "source": [
    "For each year between 1960-1970 (inclusive), compute the number of unique artists whose work MoMA acquired that year. Perform a linear regression on these counts, where X is the year and y is the count of unique artists. Report the R^2 value for this fitted regression model."
   ]
  },
  {
   "cell_type": "code",
   "execution_count": 357,
   "metadata": {},
   "outputs": [],
   "source": [
    "df2['YearAcquired'] = pd.to_datetime(df2['DateAcquired']).dt.year"
   ]
  },
  {
   "cell_type": "code",
   "execution_count": 358,
   "metadata": {},
   "outputs": [
    {
     "data": {
      "text/html": [
       "<div>\n",
       "<style scoped>\n",
       "    .dataframe tbody tr th:only-of-type {\n",
       "        vertical-align: middle;\n",
       "    }\n",
       "\n",
       "    .dataframe tbody tr th {\n",
       "        vertical-align: top;\n",
       "    }\n",
       "\n",
       "    .dataframe thead th {\n",
       "        text-align: right;\n",
       "    }\n",
       "</style>\n",
       "<table border=\"1\" class=\"dataframe\">\n",
       "  <thead>\n",
       "    <tr style=\"text-align: right;\">\n",
       "      <th></th>\n",
       "      <th>YearAcquired</th>\n",
       "      <th>counts</th>\n",
       "    </tr>\n",
       "  </thead>\n",
       "  <tbody>\n",
       "    <tr>\n",
       "      <th>57</th>\n",
       "      <td>1960.0</td>\n",
       "      <td>224</td>\n",
       "    </tr>\n",
       "    <tr>\n",
       "      <th>56</th>\n",
       "      <td>1961.0</td>\n",
       "      <td>252</td>\n",
       "    </tr>\n",
       "    <tr>\n",
       "      <th>71</th>\n",
       "      <td>1962.0</td>\n",
       "      <td>167</td>\n",
       "    </tr>\n",
       "    <tr>\n",
       "      <th>39</th>\n",
       "      <td>1963.0</td>\n",
       "      <td>309</td>\n",
       "    </tr>\n",
       "    <tr>\n",
       "      <th>5</th>\n",
       "      <td>1964.0</td>\n",
       "      <td>653</td>\n",
       "    </tr>\n",
       "    <tr>\n",
       "      <th>15</th>\n",
       "      <td>1965.0</td>\n",
       "      <td>417</td>\n",
       "    </tr>\n",
       "    <tr>\n",
       "      <th>32</th>\n",
       "      <td>1966.0</td>\n",
       "      <td>326</td>\n",
       "    </tr>\n",
       "    <tr>\n",
       "      <th>8</th>\n",
       "      <td>1967.0</td>\n",
       "      <td>578</td>\n",
       "    </tr>\n",
       "    <tr>\n",
       "      <th>10</th>\n",
       "      <td>1968.0</td>\n",
       "      <td>451</td>\n",
       "    </tr>\n",
       "    <tr>\n",
       "      <th>12</th>\n",
       "      <td>1969.0</td>\n",
       "      <td>445</td>\n",
       "    </tr>\n",
       "    <tr>\n",
       "      <th>48</th>\n",
       "      <td>1970.0</td>\n",
       "      <td>272</td>\n",
       "    </tr>\n",
       "  </tbody>\n",
       "</table>\n",
       "</div>"
      ],
      "text/plain": [
       "    YearAcquired  counts\n",
       "57        1960.0     224\n",
       "56        1961.0     252\n",
       "71        1962.0     167\n",
       "39        1963.0     309\n",
       "5         1964.0     653\n",
       "15        1965.0     417\n",
       "32        1966.0     326\n",
       "8         1967.0     578\n",
       "10        1968.0     451\n",
       "12        1969.0     445\n",
       "48        1970.0     272"
      ]
     },
     "execution_count": 358,
     "metadata": {},
     "output_type": "execute_result"
    }
   ],
   "source": [
    "# removing na artists because they will be counted as all the same/is unclear\n",
    "df2 = df2.dropna().drop_duplicates(['YearAcquired','Artist'])\n",
    "df2 = df2['YearAcquired'].value_counts().rename_axis('YearAcquired').reset_index(name='counts')\n",
    "df3 = df3[(df3.YearAcquired <= 1970) & (df3.YearAcquired >= 1960)].sort_values(by = 'YearAcquired')\n",
    "df3"
   ]
  },
  {
   "cell_type": "code",
   "execution_count": 359,
   "metadata": {},
   "outputs": [
    {
     "data": {
      "text/plain": [
       "0.1706237304148105"
      ]
     },
     "execution_count": 359,
     "metadata": {},
     "output_type": "execute_result"
    }
   ],
   "source": [
    "model = LinearRegression()\n",
    "X, y = df3[['YearAcquired']], df3.counts\n",
    "model.fit(X, y)\n",
    "model.score(X, y) #R^2 value"
   ]
  },
  {
   "cell_type": "markdown",
   "metadata": {},
   "source": [
    "The Golden Ratio (phi ~= 1.618) is popularly regarded for its aesthetic qualities, but how typically is it observed in canvas shapes in MoMA's collection? For all works in the department of Drawings & Prints whose Width (column 'Width (cm)') and Height (column 'Height (cm)') are greater than zero, compute each piece's aspect ratio as Width / Height. What proportion of these aspect ratios are within one percent of the Golden Ratio or the inverse of the Golden Ratio (which would denote a vertical Golden Rectangle)?"
   ]
  },
  {
   "cell_type": "code",
   "execution_count": 360,
   "metadata": {},
   "outputs": [
    {
     "name": "stdout",
     "output_type": "stream",
     "text": [
      "Within 1% of Golden Ratio: 0.0038756125438469723\n",
      "Within 1% of Inverse Golden Ratio: 0.007107479275326143\n"
     ]
    }
   ],
   "source": [
    "df4 = df[df.Department == 'Drawings & Prints'][['Width (cm)','Height (cm)']]\n",
    "\n",
    "df4['ratio'] = abs((df4['Width (cm)']/df['Height (cm)'])-1.618)/1.618\n",
    "df4['inverse'] = abs((df4['Width (cm)']/df['Height (cm)'])-0.618)/0.618\n",
    "print('Within 1% of Golden Ratio:', len(df4[df4.ratio <= 0.01])/len(df4))\n",
    "print('Within 1% of Inverse Golden Ratio:', len(df4[df4.inverse <= 0.01])/len(df4))"
   ]
  },
  {
   "cell_type": "markdown",
   "metadata": {},
   "source": [
    "Does the number of MoMA's yearly acquisitions vary along with changes to the market? Compute the number of pieces acquired by MoMA for each year from 2000-2010 (inclusive), then compute the percent difference in yearly acquisitions. Next, using values from the link provided, obtain January's average closing price for the S&P 500 across those same years (2000-2010). Compute the year-to-year percent difference of those values, as well. Finally, compute and report the Pearson's correlation coefficient between the percent differences in yearly acquisitions and in the average January S&P 500 closing prices.\n",
    "\n",
    "You can find the monthly average closing price for the S&P 500 at the following link: here. Note: Since your starting point is 2000, your percent differences will be defined for 2001-2010."
   ]
  },
  {
   "cell_type": "code",
   "execution_count": 375,
   "metadata": {},
   "outputs": [],
   "source": [
    "df5 = df2[(df2.YearAcquired <= 2010) \n",
    "          & (df2.YearAcquired >= 2000)].sort_values(\n",
    "    by= 'YearAcquired')"
   ]
  },
  {
   "cell_type": "code",
   "execution_count": 403,
   "metadata": {},
   "outputs": [],
   "source": [
    "df5['purchase_change'] =df5.counts.pct_change()\n",
    "df5['StockPrice'] = [1425.59,1335.63,1140.21,895.84,1132.52,1181.41,1278.73,1424.16,1378.76,865.58,1123.58]\n",
    "df5['stock_change'] = df5.StockPrice.pct_change()\n",
    "df5 =df5.dropna()"
   ]
  },
  {
   "cell_type": "code",
   "execution_count": 404,
   "metadata": {},
   "outputs": [
    {
     "name": "stdout",
     "output_type": "stream",
     "text": [
      "Pearsons correlation: 0.20005\n"
     ]
    }
   ],
   "source": [
    "from scipy.stats import pearsonr\n",
    "corr, _ = pearsonr(df5.purchase_change, df5.stock_change)\n",
    "print('Pearsons correlation: %.5f' % corr)"
   ]
  },
  {
   "cell_type": "code",
   "execution_count": null,
   "metadata": {},
   "outputs": [],
   "source": []
  },
  {
   "cell_type": "code",
   "execution_count": null,
   "metadata": {},
   "outputs": [],
   "source": []
  }
 ],
 "metadata": {
  "kernelspec": {
   "display_name": "Python 3",
   "language": "python",
   "name": "python3"
  },
  "language_info": {
   "codemirror_mode": {
    "name": "ipython",
    "version": 3
   },
   "file_extension": ".py",
   "mimetype": "text/x-python",
   "name": "python",
   "nbconvert_exporter": "python",
   "pygments_lexer": "ipython3",
   "version": "3.7.3"
  }
 },
 "nbformat": 4,
 "nbformat_minor": 2
}
